{
 "cells": [
  {
   "cell_type": "markdown",
   "id": "820510f5",
   "metadata": {},
   "source": [
    "# -Indexing"
   ]
  },
  {
   "cell_type": "code",
   "execution_count": 1,
   "id": "f28a8655",
   "metadata": {},
   "outputs": [
    {
     "data": {
      "text/plain": [
       "'Samosa Pakora'"
      ]
     },
     "execution_count": 1,
     "metadata": {},
     "output_type": "execute_result"
    }
   ],
   "source": [
    "# make a string\n",
    "a = \"Samosa Pakora\"\n",
    "a"
   ]
  },
  {
   "cell_type": "code",
   "execution_count": 2,
   "id": "d12aa5f1",
   "metadata": {},
   "outputs": [
    {
     "data": {
      "text/plain": [
       "13"
      ]
     },
     "execution_count": 2,
     "metadata": {},
     "output_type": "execute_result"
    }
   ],
   "source": [
    "len(a)"
   ]
  },
  {
   "cell_type": "code",
   "execution_count": 3,
   "id": "3c1f3b2d",
   "metadata": {},
   "outputs": [
    {
     "data": {
      "text/plain": [
       "'o'"
      ]
     },
     "execution_count": 3,
     "metadata": {},
     "output_type": "execute_result"
    }
   ],
   "source": [
    "a[3]"
   ]
  },
  {
   "cell_type": "code",
   "execution_count": 4,
   "id": "82fd7b84",
   "metadata": {},
   "outputs": [
    {
     "data": {
      "text/plain": [
       "'S'"
      ]
     },
     "execution_count": 4,
     "metadata": {},
     "output_type": "execute_result"
    }
   ],
   "source": [
    "a[0]"
   ]
  },
  {
   "cell_type": "code",
   "execution_count": 5,
   "id": "fd06d4a3",
   "metadata": {},
   "outputs": [
    {
     "data": {
      "text/plain": [
       "'Samos'"
      ]
     },
     "execution_count": 5,
     "metadata": {},
     "output_type": "execute_result"
    }
   ],
   "source": [
    "a[0:5]"
   ]
  },
  {
   "cell_type": "code",
   "execution_count": 6,
   "id": "d3383b33",
   "metadata": {},
   "outputs": [
    {
     "data": {
      "text/plain": [
       "'Samosa'"
      ]
     },
     "execution_count": 6,
     "metadata": {},
     "output_type": "execute_result"
    }
   ],
   "source": [
    "a[0:6]"
   ]
  },
  {
   "cell_type": "code",
   "execution_count": 7,
   "id": "c2cecd45",
   "metadata": {},
   "outputs": [
    {
     "data": {
      "text/plain": [
       "'o'"
      ]
     },
     "execution_count": 7,
     "metadata": {},
     "output_type": "execute_result"
    }
   ],
   "source": [
    "a[-3]"
   ]
  },
  {
   "cell_type": "code",
   "execution_count": 8,
   "id": "8380ef65",
   "metadata": {},
   "outputs": [
    {
     "data": {
      "text/plain": [
       "'a'"
      ]
     },
     "execution_count": 8,
     "metadata": {},
     "output_type": "execute_result"
    }
   ],
   "source": [
    "a[-1]"
   ]
  },
  {
   "cell_type": "code",
   "execution_count": 9,
   "id": "882857c3",
   "metadata": {},
   "outputs": [
    {
     "data": {
      "text/plain": [
       "'r'"
      ]
     },
     "execution_count": 9,
     "metadata": {},
     "output_type": "execute_result"
    }
   ],
   "source": [
    "a[-2]"
   ]
  },
  {
   "cell_type": "code",
   "execution_count": 10,
   "id": "99d834f2",
   "metadata": {},
   "outputs": [
    {
     "data": {
      "text/plain": [
       "'Pakora'"
      ]
     },
     "execution_count": 10,
     "metadata": {},
     "output_type": "execute_result"
    }
   ],
   "source": [
    "a[-6:13]"
   ]
  },
  {
   "cell_type": "markdown",
   "id": "c9638eba",
   "metadata": {},
   "source": [
    "# String Methods"
   ]
  },
  {
   "cell_type": "code",
   "execution_count": 11,
   "id": "89b9db0f",
   "metadata": {},
   "outputs": [
    {
     "data": {
      "text/plain": [
       "'biryani'"
      ]
     },
     "execution_count": 11,
     "metadata": {},
     "output_type": "execute_result"
    }
   ],
   "source": [
    "food=\"biryani\"\n",
    "food"
   ]
  },
  {
   "cell_type": "code",
   "execution_count": 12,
   "id": "88075ee3",
   "metadata": {
    "scrolled": true
   },
   "outputs": [
    {
     "data": {
      "text/plain": [
       "7"
      ]
     },
     "execution_count": 12,
     "metadata": {},
     "output_type": "execute_result"
    }
   ],
   "source": [
    "len(food)"
   ]
  },
  {
   "cell_type": "code",
   "execution_count": 13,
   "id": "599a6d2f",
   "metadata": {},
   "outputs": [
    {
     "data": {
      "text/plain": [
       "'Biryani'"
      ]
     },
     "execution_count": 13,
     "metadata": {},
     "output_type": "execute_result"
    }
   ],
   "source": [
    "food.capitalize()"
   ]
  },
  {
   "cell_type": "code",
   "execution_count": 14,
   "id": "81e2b580",
   "metadata": {},
   "outputs": [
    {
     "data": {
      "text/plain": [
       "'BIRYANI'"
      ]
     },
     "execution_count": 14,
     "metadata": {},
     "output_type": "execute_result"
    }
   ],
   "source": [
    "food.upper()"
   ]
  },
  {
   "cell_type": "code",
   "execution_count": 15,
   "id": "31c987dc",
   "metadata": {},
   "outputs": [
    {
     "data": {
      "text/plain": [
       "'biryani'"
      ]
     },
     "execution_count": 15,
     "metadata": {},
     "output_type": "execute_result"
    }
   ],
   "source": [
    "food.lower()"
   ]
  },
  {
   "cell_type": "code",
   "execution_count": 16,
   "id": "640251f8",
   "metadata": {},
   "outputs": [
    {
     "data": {
      "text/plain": [
       "'Shiryani'"
      ]
     },
     "execution_count": 16,
     "metadata": {},
     "output_type": "execute_result"
    }
   ],
   "source": [
    "food.replace(\"b\",\"Sh\")"
   ]
  },
  {
   "cell_type": "code",
   "execution_count": 17,
   "id": "1964fdd8",
   "metadata": {},
   "outputs": [
    {
     "data": {
      "text/plain": [
       "'We are learing python with jupyter_notbook'"
      ]
     },
     "execution_count": 17,
     "metadata": {},
     "output_type": "execute_result"
    }
   ],
   "source": [
    "# count the specific word \n",
    "name = \"We are learing python with jupyter_notbook\"\n",
    "name"
   ]
  },
  {
   "cell_type": "code",
   "execution_count": 18,
   "id": "f28007af",
   "metadata": {},
   "outputs": [
    {
     "data": {
      "text/plain": [
       "4"
      ]
     },
     "execution_count": 18,
     "metadata": {},
     "output_type": "execute_result"
    }
   ],
   "source": [
    "name.count(\"e\")"
   ]
  },
  {
   "cell_type": "code",
   "execution_count": 19,
   "id": "d97b3453",
   "metadata": {},
   "outputs": [
    {
     "data": {
      "text/plain": [
       "2"
      ]
     },
     "execution_count": 19,
     "metadata": {},
     "output_type": "execute_result"
    }
   ],
   "source": [
    "name.count(\"a\")"
   ]
  },
  {
   "cell_type": "markdown",
   "id": "b82b9ba3",
   "metadata": {},
   "source": [
    "### -finding an index number in string"
   ]
  },
  {
   "cell_type": "code",
   "execution_count": 20,
   "id": "f40bf50e",
   "metadata": {},
   "outputs": [
    {
     "data": {
      "text/plain": [
       "'We are learing python with jupyter_notbook'"
      ]
     },
     "execution_count": 20,
     "metadata": {},
     "output_type": "execute_result"
    }
   ],
   "source": [
    "name = \"We are learing python with jupyter_notbook\"\n",
    "name"
   ]
  },
  {
   "cell_type": "code",
   "execution_count": 21,
   "id": "4633b80b",
   "metadata": {
    "scrolled": true
   },
   "outputs": [
    {
     "data": {
      "text/plain": [
       "27"
      ]
     },
     "execution_count": 21,
     "metadata": {},
     "output_type": "execute_result"
    }
   ],
   "source": [
    "name.find(\"j\")"
   ]
  },
  {
   "cell_type": "code",
   "execution_count": 22,
   "id": "4b754ef0",
   "metadata": {},
   "outputs": [
    {
     "data": {
      "text/plain": [
       "'i love somosa, pakora, raita, aloo, karahi'"
      ]
     },
     "execution_count": 22,
     "metadata": {},
     "output_type": "execute_result"
    }
   ],
   "source": [
    "### -how to split a string\n",
    "food = \"i love somosa, pakora, raita, aloo, karahi\"\n",
    "food"
   ]
  },
  {
   "cell_type": "code",
   "execution_count": 23,
   "id": "afbf9eab",
   "metadata": {},
   "outputs": [
    {
     "data": {
      "text/plain": [
       "['i love somosa', ' pakora', ' raita', ' aloo', ' karahi']"
      ]
     },
     "execution_count": 23,
     "metadata": {},
     "output_type": "execute_result"
    }
   ],
   "source": [
    "food.split(\",\")"
   ]
  },
  {
   "cell_type": "markdown",
   "id": "e7c49faa",
   "metadata": {},
   "source": [
    "## Basic data structure in python\n",
    "### 1-Tuple\n",
    "### 2-List\n",
    "### 3-Dictionaries\n",
    "### 4-set"
   ]
  },
  {
   "cell_type": "markdown",
   "id": "0c03ff41",
   "metadata": {},
   "source": [
    "## 1-Tuple\n",
    "### ordered colection of element \n",
    "### inclosed in round braket (barces)\n",
    "### Diffrent kind of element can be stored \n",
    "### once element is stored not changeable"
   ]
  },
  {
   "cell_type": "code",
   "execution_count": 24,
   "id": "7f8a97e7",
   "metadata": {},
   "outputs": [
    {
     "data": {
      "text/plain": [
       "(3, 'python', 2.2, True)"
      ]
     },
     "execution_count": 24,
     "metadata": {},
     "output_type": "execute_result"
    }
   ],
   "source": [
    "tup1= (3 , \"python\" , 2.2 , True)\n",
    "tup1"
   ]
  },
  {
   "cell_type": "code",
   "execution_count": 25,
   "id": "c79afc94",
   "metadata": {},
   "outputs": [
    {
     "data": {
      "text/plain": [
       "tuple"
      ]
     },
     "execution_count": 25,
     "metadata": {},
     "output_type": "execute_result"
    }
   ],
   "source": [
    "type(tup1)"
   ]
  },
  {
   "cell_type": "markdown",
   "id": "d2e8c05d",
   "metadata": {},
   "source": [
    "### indexing in tuple"
   ]
  },
  {
   "cell_type": "code",
   "execution_count": 26,
   "id": "8e2774ee",
   "metadata": {},
   "outputs": [
    {
     "data": {
      "text/plain": [
       "3"
      ]
     },
     "execution_count": 26,
     "metadata": {},
     "output_type": "execute_result"
    }
   ],
   "source": [
    "tup1[0]"
   ]
  },
  {
   "cell_type": "code",
   "execution_count": 27,
   "id": "95bc1627",
   "metadata": {},
   "outputs": [
    {
     "data": {
      "text/plain": [
       "2.2"
      ]
     },
     "execution_count": 27,
     "metadata": {},
     "output_type": "execute_result"
    }
   ],
   "source": [
    "tup1[2]"
   ]
  },
  {
   "cell_type": "code",
   "execution_count": 28,
   "id": "26895865",
   "metadata": {},
   "outputs": [
    {
     "data": {
      "text/plain": [
       "(3, 'python', 2.2)"
      ]
     },
     "execution_count": 28,
     "metadata": {},
     "output_type": "execute_result"
    }
   ],
   "source": [
    "tup1[0:3]"
   ]
  },
  {
   "cell_type": "code",
   "execution_count": 29,
   "id": "2ad34a6d",
   "metadata": {},
   "outputs": [
    {
     "data": {
      "text/plain": [
       "(3, 'python', 2.2, True)"
      ]
     },
     "execution_count": 29,
     "metadata": {},
     "output_type": "execute_result"
    }
   ],
   "source": [
    "tup1[0:4]"
   ]
  },
  {
   "cell_type": "code",
   "execution_count": 30,
   "id": "7490e887",
   "metadata": {},
   "outputs": [
    {
     "ename": "SyntaxError",
     "evalue": "invalid syntax (1467184623.py, line 1)",
     "output_type": "error",
     "traceback": [
      "\u001b[1;36m  Input \u001b[1;32mIn [30]\u001b[1;36m\u001b[0m\n\u001b[1;33m    count of tup1\u001b[0m\n\u001b[1;37m          ^\u001b[0m\n\u001b[1;31mSyntaxError\u001b[0m\u001b[1;31m:\u001b[0m invalid syntax\n"
     ]
    }
   ],
   "source": [
    "count of tup1\n",
    "len(tup1)"
   ]
  },
  {
   "cell_type": "code",
   "execution_count": null,
   "id": "a95127c7",
   "metadata": {},
   "outputs": [],
   "source": [
    "tup2 = (3 , \"BabaAmmar\" , 2.5,False)\n",
    "tup2"
   ]
  },
  {
   "cell_type": "code",
   "execution_count": null,
   "id": "dc10c964",
   "metadata": {},
   "outputs": [],
   "source": [
    "type(tup2)"
   ]
  },
  {
   "cell_type": "code",
   "execution_count": null,
   "id": "e265049e",
   "metadata": {},
   "outputs": [],
   "source": [
    "#concatinate (to add more then one tuple)\n",
    "tup1 + tup2"
   ]
  },
  {
   "cell_type": "code",
   "execution_count": null,
   "id": "f45b496d",
   "metadata": {},
   "outputs": [],
   "source": [
    "#concatinate + repeat\n",
    "tup1*2 +tup2"
   ]
  },
  {
   "cell_type": "code",
   "execution_count": null,
   "id": "dad7623e",
   "metadata": {},
   "outputs": [],
   "source": [
    "tup3 = (20,30,14,67,29,38,49,590)\n",
    "tup3"
   ]
  },
  {
   "cell_type": "code",
   "execution_count": null,
   "id": "cd6eff68",
   "metadata": {},
   "outputs": [],
   "source": [
    "#minimum\n",
    "min(tup3)"
   ]
  },
  {
   "cell_type": "code",
   "execution_count": null,
   "id": "5fdc6374",
   "metadata": {},
   "outputs": [],
   "source": [
    "#maximum\n",
    "max(tup3)"
   ]
  },
  {
   "cell_type": "code",
   "execution_count": null,
   "id": "c0fbd63d",
   "metadata": {},
   "outputs": [],
   "source": [
    "tup3*2"
   ]
  },
  {
   "cell_type": "code",
   "execution_count": null,
   "id": "fb4a977f",
   "metadata": {},
   "outputs": [],
   "source": []
  },
  {
   "cell_type": "markdown",
   "id": "bd92429f",
   "metadata": {},
   "source": [
    "---"
   ]
  },
  {
   "cell_type": "markdown",
   "id": "dd0eef1a",
   "metadata": {},
   "source": [
    "## 2- Lists\n",
    "- orderd colection of elements\n",
    "- enclosed in [] square brackets\n",
    "- Mutatable you can change the values"
   ]
  },
  {
   "cell_type": "code",
   "execution_count": 47,
   "id": "361b22ba",
   "metadata": {},
   "outputs": [
    {
     "data": {
      "text/plain": [
       "[5, 'BabaAmmar', False]"
      ]
     },
     "execution_count": 47,
     "metadata": {},
     "output_type": "execute_result"
    }
   ],
   "source": [
    "list1 = [5 , \"BabaAmmar\" , False]\n",
    "list1"
   ]
  },
  {
   "cell_type": "code",
   "execution_count": 40,
   "id": "8052e349",
   "metadata": {},
   "outputs": [
    {
     "data": {
      "text/plain": [
       "list"
      ]
     },
     "execution_count": 40,
     "metadata": {},
     "output_type": "execute_result"
    }
   ],
   "source": [
    "type(list1)"
   ]
  },
  {
   "cell_type": "code",
   "execution_count": 41,
   "id": "ed2b0330",
   "metadata": {},
   "outputs": [
    {
     "data": {
      "text/plain": [
       "3"
      ]
     },
     "execution_count": 41,
     "metadata": {},
     "output_type": "execute_result"
    }
   ],
   "source": [
    "len(list1)"
   ]
  },
  {
   "cell_type": "code",
   "execution_count": 42,
   "id": "3cebfea7",
   "metadata": {},
   "outputs": [
    {
     "data": {
      "text/plain": [
       "'BabaAmmar'"
      ]
     },
     "execution_count": 42,
     "metadata": {},
     "output_type": "execute_result"
    }
   ],
   "source": [
    "list1[1]"
   ]
  },
  {
   "cell_type": "code",
   "execution_count": 37,
   "id": "d15c7c0e",
   "metadata": {},
   "outputs": [
    {
     "data": {
      "text/plain": [
       "[2, 4, 'BabaAmmar', 'Codanics', 478, 53.5, False]"
      ]
     },
     "execution_count": 37,
     "metadata": {},
     "output_type": "execute_result"
    }
   ],
   "source": [
    "list2 = [2, 4, \"BabaAmmar\", \"Codanics\", 478, 53.5, False]\n",
    "list2"
   ]
  },
  {
   "cell_type": "code",
   "execution_count": 43,
   "id": "0f482b1d",
   "metadata": {
    "scrolled": true
   },
   "outputs": [
    {
     "data": {
      "text/plain": [
       "[5, 'BabaAmmar', False, 2, 4, 'BabaAmmar', 'Codanics', 478, 53.5, False]"
      ]
     },
     "execution_count": 43,
     "metadata": {},
     "output_type": "execute_result"
    }
   ],
   "source": [
    "list1 + list2"
   ]
  },
  {
   "cell_type": "code",
   "execution_count": 44,
   "id": "92f28200",
   "metadata": {},
   "outputs": [
    {
     "data": {
      "text/plain": [
       "[5, 'BabaAmmar', False, 5, 'BabaAmmar', False]"
      ]
     },
     "execution_count": 44,
     "metadata": {},
     "output_type": "execute_result"
    }
   ],
   "source": [
    "list1*2"
   ]
  },
  {
   "cell_type": "code",
   "execution_count": 45,
   "id": "1c344c5e",
   "metadata": {},
   "outputs": [
    {
     "data": {
      "text/plain": [
       "[5, 'BabaAmmar', False]"
      ]
     },
     "execution_count": 45,
     "metadata": {},
     "output_type": "execute_result"
    }
   ],
   "source": [
    "list1"
   ]
  },
  {
   "cell_type": "code",
   "execution_count": 46,
   "id": "aa66ff4c",
   "metadata": {},
   "outputs": [
    {
     "data": {
      "text/plain": [
       "[False, 'BabaAmmar', 5]"
      ]
     },
     "execution_count": 46,
     "metadata": {},
     "output_type": "execute_result"
    }
   ],
   "source": [
    "list1.reverse()\n",
    "list1"
   ]
  },
  {
   "cell_type": "code",
   "execution_count": null,
   "id": "bc6293a4",
   "metadata": {},
   "outputs": [],
   "source": [
    "list1.append(\"codanics youtube channel\")\n",
    "list1"
   ]
  },
  {
   "cell_type": "code",
   "execution_count": null,
   "id": "9de51fa4",
   "metadata": {},
   "outputs": [],
   "source": [
    "#do it by own self\n",
    "list1.count(list1)"
   ]
  },
  {
   "cell_type": "code",
   "execution_count": 32,
   "id": "7d33babc",
   "metadata": {},
   "outputs": [
    {
     "data": {
      "text/plain": [
       "[12, 34, 23, 4, 54, 23, 21, 44, 25, 35]"
      ]
     },
     "execution_count": 32,
     "metadata": {},
     "output_type": "execute_result"
    }
   ],
   "source": [
    "list3 = [12,34,23,4,54,23,21,44,25,35,]\n",
    "list3"
   ]
  },
  {
   "cell_type": "code",
   "execution_count": 33,
   "id": "10c49ad5",
   "metadata": {},
   "outputs": [
    {
     "data": {
      "text/plain": [
       "10"
      ]
     },
     "execution_count": 33,
     "metadata": {},
     "output_type": "execute_result"
    }
   ],
   "source": [
    "len(list3)"
   ]
  },
  {
   "cell_type": "code",
   "execution_count": 34,
   "id": "e93ab61e",
   "metadata": {},
   "outputs": [
    {
     "data": {
      "text/plain": [
       "[12, 34, 23, 4, 54, 23, 21, 44, 25, 35]"
      ]
     },
     "execution_count": 34,
     "metadata": {},
     "output_type": "execute_result"
    }
   ],
   "source": [
    "#sorting list\n",
    "list3.sort\n",
    "list3"
   ]
  },
  {
   "cell_type": "code",
   "execution_count": 35,
   "id": "3ff29ec7",
   "metadata": {},
   "outputs": [
    {
     "data": {
      "text/plain": [
       "[12, 34, 23, 4, 54, 23, 21, 44, 25, 35, 12, 34, 23, 4, 54, 23, 21, 44, 25, 35]"
      ]
     },
     "execution_count": 35,
     "metadata": {},
     "output_type": "execute_result"
    }
   ],
   "source": [
    "list3*2"
   ]
  },
  {
   "cell_type": "code",
   "execution_count": 48,
   "id": "6e76f4bf",
   "metadata": {
    "scrolled": true
   },
   "outputs": [
    {
     "data": {
      "text/plain": [
       "[2,\n",
       " 4,\n",
       " 'BabaAmmar',\n",
       " 'Codanics',\n",
       " 478,\n",
       " 53.5,\n",
       " False,\n",
       " 12,\n",
       " 34,\n",
       " 23,\n",
       " 4,\n",
       " 54,\n",
       " 23,\n",
       " 21,\n",
       " 44,\n",
       " 25,\n",
       " 35,\n",
       " 5,\n",
       " 'BabaAmmar',\n",
       " False]"
      ]
     },
     "execution_count": 48,
     "metadata": {},
     "output_type": "execute_result"
    }
   ],
   "source": [
    "list2 + list3 +list1"
   ]
  },
  {
   "cell_type": "code",
   "execution_count": 50,
   "id": "47ad6f42",
   "metadata": {},
   "outputs": [
    {
     "data": {
      "text/plain": [
       "[5, 'BabaAmmar', False, 2, 4, 'BabaAmmar', 'Codanics', 478, 53.5, False]"
      ]
     },
     "execution_count": 50,
     "metadata": {},
     "output_type": "execute_result"
    }
   ],
   "source": [
    "lists = list1 +list2\n",
    "lists"
   ]
  },
  {
   "cell_type": "markdown",
   "id": "49ceebc6",
   "metadata": {},
   "source": [
    "## 3-Dictionaries\n",
    "- Unordered colection of element\n",
    "- key and value\n",
    "- curly barces or brackets { }\n",
    "- Mutateable can change the values"
   ]
  },
  {
   "cell_type": "code",
   "execution_count": 52,
   "id": "3a60670a",
   "metadata": {},
   "outputs": [
    {
     "data": {
      "text/plain": [
       "{'samosa': 30, 'pakora': 100, 'raita': 20, 'salad': 50, 'chiken rolls': 30}"
      ]
     },
     "execution_count": 52,
     "metadata": {},
     "output_type": "execute_result"
    }
   ],
   "source": [
    "#food and their prices\n",
    "food1 = {\"samosa\":30, \"pakora\":100, \"raita\":20, \"salad\":50,\"chiken rolls\":30}\n",
    "food1"
   ]
  },
  {
   "cell_type": "code",
   "execution_count": 53,
   "id": "8bb34393",
   "metadata": {},
   "outputs": [
    {
     "data": {
      "text/plain": [
       "dict"
      ]
     },
     "execution_count": 53,
     "metadata": {},
     "output_type": "execute_result"
    }
   ],
   "source": [
    "type(food1)"
   ]
  },
  {
   "cell_type": "code",
   "execution_count": 54,
   "id": "6434c269",
   "metadata": {},
   "outputs": [
    {
     "data": {
      "text/plain": [
       "5"
      ]
     },
     "execution_count": 54,
     "metadata": {},
     "output_type": "execute_result"
    }
   ],
   "source": [
    "len(food1)"
   ]
  },
  {
   "cell_type": "code",
   "execution_count": 57,
   "id": "445ca5cb",
   "metadata": {},
   "outputs": [
    {
     "data": {
      "text/plain": [
       "dict_keys(['samosa', 'pakora', 'raita', 'salad', 'chiken rolls'])"
      ]
     },
     "execution_count": 57,
     "metadata": {},
     "output_type": "execute_result"
    }
   ],
   "source": [
    "# extract data\n",
    "keys1 = food1.keys()\n",
    "keys1"
   ]
  },
  {
   "cell_type": "code",
   "execution_count": 58,
   "id": "b45d2d78",
   "metadata": {},
   "outputs": [
    {
     "data": {
      "text/plain": [
       "dict_values([30, 100, 20, 50, 30])"
      ]
     },
     "execution_count": 58,
     "metadata": {},
     "output_type": "execute_result"
    }
   ],
   "source": [
    "values1 = food1.values()\n",
    "values1"
   ]
  },
  {
   "cell_type": "code",
   "execution_count": 60,
   "id": "92ad9d3b",
   "metadata": {
    "scrolled": true
   },
   "outputs": [
    {
     "data": {
      "text/plain": [
       "{'samosa': 30,\n",
       " 'pakora': 100,\n",
       " 'raita': 20,\n",
       " 'salad': 50,\n",
       " 'chiken rolls': 30,\n",
       " 'Tikki': 10}"
      ]
     },
     "execution_count": 60,
     "metadata": {},
     "output_type": "execute_result"
    }
   ],
   "source": [
    "#adding new elements\n",
    "food1[\"Tikki\"]=10\n",
    "food1"
   ]
  },
  {
   "cell_type": "code",
   "execution_count": 61,
   "id": "27273c8b",
   "metadata": {},
   "outputs": [
    {
     "data": {
      "text/plain": [
       "{'dates': 50, 'choclates': 200, 'sawayyan': 1000}"
      ]
     },
     "execution_count": 61,
     "metadata": {},
     "output_type": "execute_result"
    }
   ],
   "source": [
    "food2 = {\"dates\":50, \"choclates\":200, \"sawayyan\":1000}\n",
    "food2"
   ]
  },
  {
   "cell_type": "code",
   "execution_count": 63,
   "id": "aa059366",
   "metadata": {},
   "outputs": [
    {
     "data": {
      "text/plain": [
       "{'samosa': 30,\n",
       " 'pakora': 100,\n",
       " 'raita': 20,\n",
       " 'salad': 50,\n",
       " 'chiken rolls': 30,\n",
       " 'Tikki': 10,\n",
       " 'dates': 50,\n",
       " 'choclates': 200,\n",
       " 'sawayyan': 1000}"
      ]
     },
     "execution_count": 63,
     "metadata": {},
     "output_type": "execute_result"
    }
   ],
   "source": [
    "food1.update(food2)\n",
    "food1"
   ]
  },
  {
   "cell_type": "markdown",
   "id": "ecdfebab",
   "metadata": {},
   "source": [
    "## 4- sets\n",
    "- Unodered and Unindexed\n",
    "- culey braces { }\n",
    "- No Dublicates are allowed "
   ]
  },
  {
   "cell_type": "code",
   "execution_count": 64,
   "id": "59030434",
   "metadata": {},
   "outputs": [
    {
     "data": {
      "text/plain": [
       "{1, 2.3, 'BabaAmmar', 'Codanics', 'Faisalabad'}"
      ]
     },
     "execution_count": 64,
     "metadata": {},
     "output_type": "execute_result"
    }
   ],
   "source": [
    "s1 = {1, 2.3, \"BabaAmmar\", \"Codanics\", \"Faisalabad\", True}\n",
    "s1"
   ]
  },
  {
   "cell_type": "code",
   "execution_count": 65,
   "id": "a2760882",
   "metadata": {},
   "outputs": [
    {
     "data": {
      "text/plain": [
       "set"
      ]
     },
     "execution_count": 65,
     "metadata": {},
     "output_type": "execute_result"
    }
   ],
   "source": [
    "type(s1)"
   ]
  },
  {
   "cell_type": "code",
   "execution_count": null,
   "id": "2be4c8a0",
   "metadata": {},
   "outputs": [],
   "source": [
    "s1.update(\"Ammar\")"
   ]
  },
  {
   "cell_type": "code",
   "execution_count": 66,
   "id": "b00cfaeb",
   "metadata": {},
   "outputs": [
    {
     "data": {
      "text/plain": [
       "{1, 2.3, 'BabaAmmar', 'Codanics', 'Faisalabad'}"
      ]
     },
     "execution_count": 66,
     "metadata": {},
     "output_type": "execute_result"
    }
   ],
   "source": [
    "s1"
   ]
  },
  {
   "cell_type": "code",
   "execution_count": null,
   "id": "6db350fe",
   "metadata": {},
   "outputs": [],
   "source": []
  }
 ],
 "metadata": {
  "kernelspec": {
   "display_name": "Python 3 (ipykernel)",
   "language": "python",
   "name": "python3"
  },
  "language_info": {
   "codemirror_mode": {
    "name": "ipython",
    "version": 3
   },
   "file_extension": ".py",
   "mimetype": "text/x-python",
   "name": "python",
   "nbconvert_exporter": "python",
   "pygments_lexer": "ipython3",
   "version": "3.9.12"
  }
 },
 "nbformat": 4,
 "nbformat_minor": 5
}
